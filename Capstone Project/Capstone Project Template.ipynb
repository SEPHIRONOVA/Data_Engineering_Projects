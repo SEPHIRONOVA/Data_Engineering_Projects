{
 "cells": [
  {
   "cell_type": "markdown",
   "metadata": {
    "editable": true
   },
   "source": [
    "# ETF Research Data Project\n",
    "### A Data Engineer Project\n",
    "\n",
    "## Project Summary\n",
    "As a Canadian Passive Investor who wants to invest in North America stocks. As there're thousands ETF available in the market, investor want to start a top-down analysis on different sector in North America. He/she want to do analysis on different sectors in both Canada and US.\n",
    "\n",
    "### Glossary:\n",
    "* North America: Only include US and Canada\n",
    "* Passive Investor: Investors who will likely to invest in ETF or Mutual fund tracking certain index\n",
    "* Benchmark: Benchmark is the standard to evaluate the performance of security, mutual fund, ETF, portfolio manager. Different benchmarks have different focus include different geographic locations, industry sectors, and investment styles, etc. It often constitute different individual securities or other benchmarks.\n",
    "* NTR Index: Net Total Return Tracks all the capital gain as well as cash distribution income \n",
    "\n",
    "The project follows the follow steps:\n",
    "* Step 1: Scope the Project and Gather Data\n",
    "* Step 2: Explore and Assess the Data\n",
    "* Step 3: Define the Data Model\n",
    "* Step 4: Run ETL to Model the Data\n",
    "* Step 5: Complete Project Write Up"
   ]
  },
  {
   "cell_type": "code",
   "execution_count": 1,
   "metadata": {
    "editable": true
   },
   "outputs": [
    {
     "name": "stdout",
     "output_type": "stream",
     "text": [
      "Collecting quandl\n",
      "  Downloading https://files.pythonhosted.org/packages/8b/2b/feefb36015beaecc5c0f9f2533e815b409621d9fa7b50b2aac621796f828/Quandl-3.6.1-py2.py3-none-any.whl\n",
      "Requirement already satisfied: six in /opt/conda/lib/python3.6/site-packages (from quandl) (1.11.0)\n",
      "Collecting inflection>=0.3.1 (from quandl)\n",
      "  Downloading https://files.pythonhosted.org/packages/59/91/aa6bde563e0085a02a435aa99b49ef75b0a4b062635e606dab23ce18d720/inflection-0.5.1-py2.py3-none-any.whl\n",
      "Requirement already satisfied: pandas>=0.14 in /opt/conda/lib/python3.6/site-packages (from quandl) (0.23.3)\n",
      "Requirement already satisfied: python-dateutil in /opt/conda/lib/python3.6/site-packages (from quandl) (2.6.1)\n",
      "Requirement already satisfied: requests>=2.7.0 in /opt/conda/lib/python3.6/site-packages (from quandl) (2.18.4)\n",
      "Requirement already satisfied: more-itertools in /opt/conda/lib/python3.6/site-packages (from quandl) (7.0.0)\n",
      "Requirement already satisfied: numpy>=1.8 in /opt/conda/lib/python3.6/site-packages (from quandl) (1.12.1)\n",
      "Requirement already satisfied: pytz>=2011k in /opt/conda/lib/python3.6/site-packages (from pandas>=0.14->quandl) (2017.3)\n",
      "Requirement already satisfied: chardet<3.1.0,>=3.0.2 in /opt/conda/lib/python3.6/site-packages (from requests>=2.7.0->quandl) (3.0.4)\n",
      "Requirement already satisfied: idna<2.7,>=2.5 in /opt/conda/lib/python3.6/site-packages (from requests>=2.7.0->quandl) (2.6)\n",
      "Requirement already satisfied: urllib3<1.23,>=1.21.1 in /opt/conda/lib/python3.6/site-packages (from requests>=2.7.0->quandl) (1.22)\n",
      "Requirement already satisfied: certifi>=2017.4.17 in /opt/conda/lib/python3.6/site-packages (from requests>=2.7.0->quandl) (2019.11.28)\n",
      "Installing collected packages: inflection, quandl\n",
      "Successfully installed inflection-0.5.1 quandl-3.6.1\n"
     ]
    }
   ],
   "source": [
    "!pip install quandl\n",
    "import pandas as pd\n",
    "import quandl\n",
    "import os"
   ]
  },
  {
   "cell_type": "markdown",
   "metadata": {
    "editable": true
   },
   "source": [
    "## Project Scope\n",
    "### Data Collection\n",
    "\n",
    "All data are collected from Quandl with its Python API. \n",
    "Two datasets are used:\n",
    "\n",
    "#### 1. Index Past Performance\n",
    "When selecting industry and location, benchmarks for different industries and location are most suitable to track their past performance. NNASDAQ OMX Global Index Data is used for this project. \n",
    "\n",
    "There are two dataset used for Index data:\n",
    "1. Past Daily Index Data\n",
    "2. Index list data\n",
    "\n",
    "##### Index Data Columns:\n",
    "1. Date: Date in mm/dd/yyyy format\n",
    "2. DATABASE_CODE: Database code\n",
    "3. DATASET_CODE: Dataset code \n",
    "4. Index Value: Close value of given date\n",
    "5. High: Highest value of given date\n",
    "6. Low: Lowest value of given date\n",
    "7. Total Market Value: Market value of index\n",
    "8. Dividend Market Value: Total Dividend received\n",
    "\n",
    "##### Index List Columns:\n",
    "1. Name: Name of the index\n",
    "2. SYMBOL: Current symbol\n",
    "3. OLD SYMBOL: Previously used symbol\n",
    "\n",
    "Source for Index List: https://www.quandl.com/data/NASDAQOMX-NASDAQ-OMX-Global-Index-Data/documentation\n",
    "\n",
    "#### 2. Federal Reserve Economic Data\n",
    "Economic data are highly valuable when conducting sector analysis. Traditional industry like consumer staples and consumer discretionary are highly correlated to economic data. Federal Reserve data is collected as well to supplement sector analysis.\n",
    "\n",
    "There are two dataset used for Economic data:\n",
    "1. Economic Indicator Schema\n",
    "2. Economic Indicator with value\n",
    "\n",
    "##### Economic Indicator Schema Columns:\n",
    "1. CODE: Dataset code\n",
    "2. INDICATOR: The name of Indicator\n",
    "3. TYPE: Type of indicator\n",
    "\n",
    "##### Economic Indicator with Value Columns:\n",
    "1. Date: Date in mm/dd/yyyy format\n",
    "2. DATABASE_CODE: Database code\n",
    "3. DATASET_CODE: Dataset code \n",
    "4. Value: Value of the indicator\n",
    "\n",
    "Source for Economoic Indicator List: https://www.quandl.com/data/FRED-Federal-Reserve-Economic-Data/documentation\n",
    "\n",
    "### Expected Outcome\n",
    "1. Update daily index value when market is open\n",
    "2. Check if new Federal Reserve data is available and update it\n",
    "3. Enable investor to conduct analysis with both index and economic data\n",
    "\n",
    "Note: Quandl is a alternative data platform to provide different dataset for making investment decision."
   ]
  },
  {
   "cell_type": "markdown",
   "metadata": {
    "editable": true
   },
   "source": [
    "### Step 2: Data Exploration and Cleaning"
   ]
  },
  {
   "cell_type": "markdown",
   "metadata": {
    "editable": true
   },
   "source": [
    "#### 2.1 Data Exploration"
   ]
  },
  {
   "cell_type": "code",
   "execution_count": 2,
   "metadata": {
    "editable": true
   },
   "outputs": [],
   "source": [
    "# Read Index Data\n",
    "index_list = pd.read_csv('datasets/indexes_list.csv')\n",
    "index_value = pd.read_csv('datasets/north_america_index.csv')"
   ]
  },
  {
   "cell_type": "markdown",
   "metadata": {
    "editable": true
   },
   "source": [
    "#### Checking Duplicate for index_list data "
   ]
  },
  {
   "cell_type": "code",
   "execution_count": 3,
   "metadata": {
    "editable": true
   },
   "outputs": [
    {
     "data": {
      "text/html": [
       "<div>\n",
       "<style scoped>\n",
       "    .dataframe tbody tr th:only-of-type {\n",
       "        vertical-align: middle;\n",
       "    }\n",
       "\n",
       "    .dataframe tbody tr th {\n",
       "        vertical-align: top;\n",
       "    }\n",
       "\n",
       "    .dataframe thead th {\n",
       "        text-align: right;\n",
       "    }\n",
       "</style>\n",
       "<table border=\"1\" class=\"dataframe\">\n",
       "  <thead>\n",
       "    <tr style=\"text-align: right;\">\n",
       "      <th></th>\n",
       "      <th>#NAME</th>\n",
       "      <th>SYMBOL</th>\n",
       "      <th>OLD SYMBOL</th>\n",
       "    </tr>\n",
       "  </thead>\n",
       "  <tbody>\n",
       "    <tr>\n",
       "      <th>0</th>\n",
       "      <td>Nasdaq Asia Basic Materials AUD Index</td>\n",
       "      <td>NQASIA55AUD</td>\n",
       "      <td>NQASIA1000AUD</td>\n",
       "    </tr>\n",
       "    <tr>\n",
       "      <th>1</th>\n",
       "      <td>Nasdaq Asia Basic Materials AUD NTR Index</td>\n",
       "      <td>NQASIA55AUDN</td>\n",
       "      <td>NQASIA1000AUDN</td>\n",
       "    </tr>\n",
       "    <tr>\n",
       "      <th>2</th>\n",
       "      <td>Nasdaq Asia Basic Materials AUD TR Index</td>\n",
       "      <td>NQASIA55AUDT</td>\n",
       "      <td>NQASIA1000AUDT</td>\n",
       "    </tr>\n",
       "    <tr>\n",
       "      <th>3</th>\n",
       "      <td>Nasdaq Asia Basic Materials CAD Index</td>\n",
       "      <td>NQASIA55CAD</td>\n",
       "      <td>NQASIA1000CAD</td>\n",
       "    </tr>\n",
       "    <tr>\n",
       "      <th>4</th>\n",
       "      <td>Nasdaq Asia Basic Materials CAD NTR Index</td>\n",
       "      <td>NQASIA55CADN</td>\n",
       "      <td>NQASIA1000CADN</td>\n",
       "    </tr>\n",
       "  </tbody>\n",
       "</table>\n",
       "</div>"
      ],
      "text/plain": [
       "                                       #NAME        SYMBOL      OLD SYMBOL\n",
       "0      Nasdaq Asia Basic Materials AUD Index   NQASIA55AUD   NQASIA1000AUD\n",
       "1  Nasdaq Asia Basic Materials AUD NTR Index  NQASIA55AUDN  NQASIA1000AUDN\n",
       "2   Nasdaq Asia Basic Materials AUD TR Index  NQASIA55AUDT  NQASIA1000AUDT\n",
       "3      Nasdaq Asia Basic Materials CAD Index   NQASIA55CAD   NQASIA1000CAD\n",
       "4  Nasdaq Asia Basic Materials CAD NTR Index  NQASIA55CADN  NQASIA1000CADN"
      ]
     },
     "execution_count": 3,
     "metadata": {},
     "output_type": "execute_result"
    }
   ],
   "source": [
    "index_list.head(5)"
   ]
  },
  {
   "cell_type": "code",
   "execution_count": 4,
   "metadata": {
    "editable": true
   },
   "outputs": [
    {
     "data": {
      "text/plain": [
       "Nasdaq Japan Food              36\n",
       "Nasdaq Latin America Food      36\n",
       "Nasdaq DM MEA Personal Care    36\n",
       "Nasdaq DM ASPA Food            36\n",
       "Nasdaq EM Asia Food            36\n",
       "Name: #NAME, dtype: int64"
      ]
     },
     "execution_count": 4,
     "metadata": {},
     "output_type": "execute_result"
    }
   ],
   "source": [
    "# Identify Duplicate value for index list if any\n",
    "index_list['#NAME'].value_counts().head(5)"
   ]
  },
  {
   "cell_type": "code",
   "execution_count": 5,
   "metadata": {
    "editable": true
   },
   "outputs": [
    {
     "data": {
      "text/plain": [
       "NQES60EURN           1\n",
       "NQUSL451010N         1\n",
       "NQUSM45101015EURT    1\n",
       "NQEU35CADT           1\n",
       "NQASIA15LMN          1\n",
       "Name: SYMBOL, dtype: int64"
      ]
     },
     "execution_count": 5,
     "metadata": {},
     "output_type": "execute_result"
    }
   ],
   "source": [
    "index_list['SYMBOL'].value_counts().head(5)"
   ]
  },
  {
   "cell_type": "code",
   "execution_count": 6,
   "metadata": {
    "editable": true
   },
   "outputs": [
    {
     "data": {
      "text/plain": [
       "NQCN4000AUDT      1\n",
       "NQASIA6000JPYT    1\n",
       "NQUSM2795GBPT     1\n",
       "NQDM2300LMJPYN    1\n",
       "NQUSL7535JPYT     1\n",
       "Name: OLD SYMBOL, dtype: int64"
      ]
     },
     "execution_count": 6,
     "metadata": {},
     "output_type": "execute_result"
    }
   ],
   "source": [
    "index_list['OLD SYMBOL'].value_counts().head(5)"
   ]
  },
  {
   "cell_type": "markdown",
   "metadata": {
    "editable": true
   },
   "source": [
    "Duplicate exists in #NAME Column so it needs to be removed"
   ]
  },
  {
   "cell_type": "code",
   "execution_count": 7,
   "metadata": {
    "editable": true
   },
   "outputs": [],
   "source": [
    "# Remove duplicate\n",
    "index_list = index_list.drop_duplicates(subset=['#NAME'])"
   ]
  },
  {
   "cell_type": "code",
   "execution_count": 8,
   "metadata": {
    "editable": true
   },
   "outputs": [
    {
     "data": {
      "text/plain": [
       "Nasdaq Hungary Utilities Large Mid Cap JPY NTR Index                1\n",
       "Nasdaq US Large Cap Telecommunications Equipment CAD Index          1\n",
       "Nasdaq Turkey Real Estate Large Mid Cap GBP Index                   1\n",
       "Nasdaq Turkey Health Care Large Mid Cap GBP Index                   1\n",
       "Nasdaq US Food Retailers and Wholesalers Large Mid Cap AUD Index    1\n",
       "Name: #NAME, dtype: int64"
      ]
     },
     "execution_count": 8,
     "metadata": {},
     "output_type": "execute_result"
    }
   ],
   "source": [
    "# Now check again if duplicate still exists\n",
    "index_list['#NAME'].value_counts().head(5)"
   ]
  },
  {
   "cell_type": "markdown",
   "metadata": {
    "editable": true
   },
   "source": [
    "#### Checking Missing Value for Index List"
   ]
  },
  {
   "cell_type": "code",
   "execution_count": 9,
   "metadata": {
    "editable": true
   },
   "outputs": [
    {
     "data": {
      "text/plain": [
       "False    55406\n",
       "Name: #NAME, dtype: int64"
      ]
     },
     "execution_count": 9,
     "metadata": {},
     "output_type": "execute_result"
    }
   ],
   "source": [
    "# Check Missing Value\n",
    "index_list['#NAME'].isna().value_counts()"
   ]
  },
  {
   "cell_type": "code",
   "execution_count": 10,
   "metadata": {
    "editable": true
   },
   "outputs": [
    {
     "data": {
      "text/plain": [
       "False    55338\n",
       "True        68\n",
       "Name: SYMBOL, dtype: int64"
      ]
     },
     "execution_count": 10,
     "metadata": {},
     "output_type": "execute_result"
    }
   ],
   "source": [
    "# Check Missing Value\n",
    "index_list['SYMBOL'].isna().value_counts()"
   ]
  },
  {
   "cell_type": "code",
   "execution_count": 11,
   "metadata": {
    "editable": true
   },
   "outputs": [
    {
     "data": {
      "text/plain": [
       "False    42702\n",
       "True     12704\n",
       "Name: OLD SYMBOL, dtype: int64"
      ]
     },
     "execution_count": 11,
     "metadata": {},
     "output_type": "execute_result"
    }
   ],
   "source": [
    "# Check Missing Value\n",
    "index_list['OLD SYMBOL'].isna().value_counts()"
   ]
  },
  {
   "cell_type": "markdown",
   "metadata": {
    "editable": true
   },
   "source": [
    "As SYMBOL is used to extract data with API, and OLD SYMBOL is not used for majority of index. Missing value of 'SYMBOL' will be dropped."
   ]
  },
  {
   "cell_type": "code",
   "execution_count": 12,
   "metadata": {
    "editable": true
   },
   "outputs": [],
   "source": [
    "index_list = index_list.dropna(axis = 0, subset=['SYMBOL'])"
   ]
  },
  {
   "cell_type": "code",
   "execution_count": 13,
   "metadata": {
    "editable": true
   },
   "outputs": [
    {
     "data": {
      "text/plain": [
       "False    55338\n",
       "Name: SYMBOL, dtype: int64"
      ]
     },
     "execution_count": 13,
     "metadata": {},
     "output_type": "execute_result"
    }
   ],
   "source": [
    "# Check Missing Value on SYMBOL again\n",
    "index_list['SYMBOL'].isna().value_counts()"
   ]
  },
  {
   "cell_type": "markdown",
   "metadata": {
    "editable": true
   },
   "source": [
    "#### Checking Duplicate for index_list data "
   ]
  },
  {
   "cell_type": "code",
   "execution_count": 14,
   "metadata": {
    "editable": true
   },
   "outputs": [
    {
     "data": {
      "text/html": [
       "<div>\n",
       "<style scoped>\n",
       "    .dataframe tbody tr th:only-of-type {\n",
       "        vertical-align: middle;\n",
       "    }\n",
       "\n",
       "    .dataframe tbody tr th {\n",
       "        vertical-align: top;\n",
       "    }\n",
       "\n",
       "    .dataframe thead th {\n",
       "        text-align: right;\n",
       "    }\n",
       "</style>\n",
       "<table border=\"1\" class=\"dataframe\">\n",
       "  <thead>\n",
       "    <tr style=\"text-align: right;\">\n",
       "      <th></th>\n",
       "      <th>Date</th>\n",
       "      <th>DATABASE_CODE</th>\n",
       "      <th>DATASET_CODE</th>\n",
       "      <th>Index Value</th>\n",
       "      <th>High</th>\n",
       "      <th>Low</th>\n",
       "      <th>Total Market Value</th>\n",
       "      <th>Dividend Market Value</th>\n",
       "    </tr>\n",
       "  </thead>\n",
       "  <tbody>\n",
       "    <tr>\n",
       "      <th>0</th>\n",
       "      <td>9/21/2020</td>\n",
       "      <td>NASDAQOMX</td>\n",
       "      <td>NQCA55CADT</td>\n",
       "      <td>1498.71</td>\n",
       "      <td>1498.71</td>\n",
       "      <td>1498.71</td>\n",
       "      <td>3.480000e+11</td>\n",
       "      <td>49505456</td>\n",
       "    </tr>\n",
       "    <tr>\n",
       "      <th>1</th>\n",
       "      <td>9/22/2020</td>\n",
       "      <td>NASDAQOMX</td>\n",
       "      <td>NQCA55CADT</td>\n",
       "      <td>1504.47</td>\n",
       "      <td>1504.47</td>\n",
       "      <td>1504.47</td>\n",
       "      <td>3.490000e+11</td>\n",
       "      <td>0</td>\n",
       "    </tr>\n",
       "    <tr>\n",
       "      <th>2</th>\n",
       "      <td>9/23/2020</td>\n",
       "      <td>NASDAQOMX</td>\n",
       "      <td>NQCA55CADT</td>\n",
       "      <td>1426.91</td>\n",
       "      <td>1426.91</td>\n",
       "      <td>1426.91</td>\n",
       "      <td>3.310000e+11</td>\n",
       "      <td>0</td>\n",
       "    </tr>\n",
       "    <tr>\n",
       "      <th>3</th>\n",
       "      <td>9/24/2020</td>\n",
       "      <td>NASDAQOMX</td>\n",
       "      <td>NQCA55CADT</td>\n",
       "      <td>1463.58</td>\n",
       "      <td>1463.58</td>\n",
       "      <td>1463.58</td>\n",
       "      <td>3.390000e+11</td>\n",
       "      <td>0</td>\n",
       "    </tr>\n",
       "    <tr>\n",
       "      <th>4</th>\n",
       "      <td>9/25/2020</td>\n",
       "      <td>NASDAQOMX</td>\n",
       "      <td>NQCA55CADT</td>\n",
       "      <td>1462.38</td>\n",
       "      <td>1462.38</td>\n",
       "      <td>1462.38</td>\n",
       "      <td>3.390000e+11</td>\n",
       "      <td>0</td>\n",
       "    </tr>\n",
       "  </tbody>\n",
       "</table>\n",
       "</div>"
      ],
      "text/plain": [
       "        Date DATABASE_CODE DATASET_CODE  Index Value     High      Low  \\\n",
       "0  9/21/2020     NASDAQOMX   NQCA55CADT      1498.71  1498.71  1498.71   \n",
       "1  9/22/2020     NASDAQOMX   NQCA55CADT      1504.47  1504.47  1504.47   \n",
       "2  9/23/2020     NASDAQOMX   NQCA55CADT      1426.91  1426.91  1426.91   \n",
       "3  9/24/2020     NASDAQOMX   NQCA55CADT      1463.58  1463.58  1463.58   \n",
       "4  9/25/2020     NASDAQOMX   NQCA55CADT      1462.38  1462.38  1462.38   \n",
       "\n",
       "   Total Market Value  Dividend Market Value  \n",
       "0        3.480000e+11               49505456  \n",
       "1        3.490000e+11                      0  \n",
       "2        3.310000e+11                      0  \n",
       "3        3.390000e+11                      0  \n",
       "4        3.390000e+11                      0  "
      ]
     },
     "execution_count": 14,
     "metadata": {},
     "output_type": "execute_result"
    }
   ],
   "source": [
    "index_value.head(5)"
   ]
  },
  {
   "cell_type": "code",
   "execution_count": 15,
   "metadata": {
    "editable": true
   },
   "outputs": [
    {
     "data": {
      "text/html": [
       "<div>\n",
       "<style scoped>\n",
       "    .dataframe tbody tr th:only-of-type {\n",
       "        vertical-align: middle;\n",
       "    }\n",
       "\n",
       "    .dataframe tbody tr th {\n",
       "        vertical-align: top;\n",
       "    }\n",
       "\n",
       "    .dataframe thead th {\n",
       "        text-align: right;\n",
       "    }\n",
       "</style>\n",
       "<table border=\"1\" class=\"dataframe\">\n",
       "  <thead>\n",
       "    <tr style=\"text-align: right;\">\n",
       "      <th></th>\n",
       "      <th></th>\n",
       "      <th>DATABASE_CODE</th>\n",
       "      <th>Index Value</th>\n",
       "      <th>High</th>\n",
       "      <th>Low</th>\n",
       "      <th>Total Market Value</th>\n",
       "      <th>Dividend Market Value</th>\n",
       "    </tr>\n",
       "    <tr>\n",
       "      <th>Date</th>\n",
       "      <th>DATASET_CODE</th>\n",
       "      <th></th>\n",
       "      <th></th>\n",
       "      <th></th>\n",
       "      <th></th>\n",
       "      <th></th>\n",
       "      <th></th>\n",
       "    </tr>\n",
       "  </thead>\n",
       "  <tbody>\n",
       "    <tr>\n",
       "      <th rowspan=\"5\" valign=\"top\">10/1/2020</th>\n",
       "      <th>NQCA10CADT</th>\n",
       "      <td>1</td>\n",
       "      <td>1</td>\n",
       "      <td>1</td>\n",
       "      <td>1</td>\n",
       "      <td>1</td>\n",
       "      <td>1</td>\n",
       "    </tr>\n",
       "    <tr>\n",
       "      <th>NQCA10LMCADT</th>\n",
       "      <td>1</td>\n",
       "      <td>1</td>\n",
       "      <td>1</td>\n",
       "      <td>1</td>\n",
       "      <td>1</td>\n",
       "      <td>1</td>\n",
       "    </tr>\n",
       "    <tr>\n",
       "      <th>NQCA15CADT</th>\n",
       "      <td>2</td>\n",
       "      <td>2</td>\n",
       "      <td>2</td>\n",
       "      <td>2</td>\n",
       "      <td>2</td>\n",
       "      <td>2</td>\n",
       "    </tr>\n",
       "    <tr>\n",
       "      <th>NQCA20CADT</th>\n",
       "      <td>2</td>\n",
       "      <td>2</td>\n",
       "      <td>2</td>\n",
       "      <td>2</td>\n",
       "      <td>2</td>\n",
       "      <td>2</td>\n",
       "    </tr>\n",
       "    <tr>\n",
       "      <th>NQCA30CADT</th>\n",
       "      <td>1</td>\n",
       "      <td>1</td>\n",
       "      <td>1</td>\n",
       "      <td>1</td>\n",
       "      <td>1</td>\n",
       "      <td>1</td>\n",
       "    </tr>\n",
       "  </tbody>\n",
       "</table>\n",
       "</div>"
      ],
      "text/plain": [
       "                        DATABASE_CODE  Index Value  High  Low  \\\n",
       "Date      DATASET_CODE                                          \n",
       "10/1/2020 NQCA10CADT                1            1     1    1   \n",
       "          NQCA10LMCADT              1            1     1    1   \n",
       "          NQCA15CADT                2            2     2    2   \n",
       "          NQCA20CADT                2            2     2    2   \n",
       "          NQCA30CADT                1            1     1    1   \n",
       "\n",
       "                        Total Market Value  Dividend Market Value  \n",
       "Date      DATASET_CODE                                             \n",
       "10/1/2020 NQCA10CADT                     1                      1  \n",
       "          NQCA10LMCADT                   1                      1  \n",
       "          NQCA15CADT                     2                      2  \n",
       "          NQCA20CADT                     2                      2  \n",
       "          NQCA30CADT                     1                      1  "
      ]
     },
     "execution_count": 15,
     "metadata": {},
     "output_type": "execute_result"
    }
   ],
   "source": [
    "index_value.groupby(['Date','DATASET_CODE']).count().head(5)"
   ]
  },
  {
   "cell_type": "markdown",
   "metadata": {
    "editable": true
   },
   "source": [
    "Duplicate for certain date & index combination exists"
   ]
  },
  {
   "cell_type": "code",
   "execution_count": 16,
   "metadata": {
    "editable": true
   },
   "outputs": [],
   "source": [
    "# Remove duplicate\n",
    "index_value = index_value.drop_duplicates(subset=['Date','DATASET_CODE'])"
   ]
  },
  {
   "cell_type": "code",
   "execution_count": 17,
   "metadata": {
    "editable": true
   },
   "outputs": [
    {
     "data": {
      "text/html": [
       "<div>\n",
       "<style scoped>\n",
       "    .dataframe tbody tr th:only-of-type {\n",
       "        vertical-align: middle;\n",
       "    }\n",
       "\n",
       "    .dataframe tbody tr th {\n",
       "        vertical-align: top;\n",
       "    }\n",
       "\n",
       "    .dataframe thead th {\n",
       "        text-align: right;\n",
       "    }\n",
       "</style>\n",
       "<table border=\"1\" class=\"dataframe\">\n",
       "  <thead>\n",
       "    <tr style=\"text-align: right;\">\n",
       "      <th></th>\n",
       "      <th></th>\n",
       "      <th>DATABASE_CODE</th>\n",
       "      <th>Index Value</th>\n",
       "      <th>High</th>\n",
       "      <th>Low</th>\n",
       "      <th>Total Market Value</th>\n",
       "      <th>Dividend Market Value</th>\n",
       "    </tr>\n",
       "    <tr>\n",
       "      <th>Date</th>\n",
       "      <th>DATASET_CODE</th>\n",
       "      <th></th>\n",
       "      <th></th>\n",
       "      <th></th>\n",
       "      <th></th>\n",
       "      <th></th>\n",
       "      <th></th>\n",
       "    </tr>\n",
       "  </thead>\n",
       "  <tbody>\n",
       "    <tr>\n",
       "      <th rowspan=\"5\" valign=\"top\">10/1/2020</th>\n",
       "      <th>NQCA10CADT</th>\n",
       "      <td>1</td>\n",
       "      <td>1</td>\n",
       "      <td>1</td>\n",
       "      <td>1</td>\n",
       "      <td>1</td>\n",
       "      <td>1</td>\n",
       "    </tr>\n",
       "    <tr>\n",
       "      <th>NQCA10LMCADT</th>\n",
       "      <td>1</td>\n",
       "      <td>1</td>\n",
       "      <td>1</td>\n",
       "      <td>1</td>\n",
       "      <td>1</td>\n",
       "      <td>1</td>\n",
       "    </tr>\n",
       "    <tr>\n",
       "      <th>NQCA15CADT</th>\n",
       "      <td>1</td>\n",
       "      <td>1</td>\n",
       "      <td>1</td>\n",
       "      <td>1</td>\n",
       "      <td>1</td>\n",
       "      <td>1</td>\n",
       "    </tr>\n",
       "    <tr>\n",
       "      <th>NQCA20CADT</th>\n",
       "      <td>1</td>\n",
       "      <td>1</td>\n",
       "      <td>1</td>\n",
       "      <td>1</td>\n",
       "      <td>1</td>\n",
       "      <td>1</td>\n",
       "    </tr>\n",
       "    <tr>\n",
       "      <th>NQCA30CADT</th>\n",
       "      <td>1</td>\n",
       "      <td>1</td>\n",
       "      <td>1</td>\n",
       "      <td>1</td>\n",
       "      <td>1</td>\n",
       "      <td>1</td>\n",
       "    </tr>\n",
       "  </tbody>\n",
       "</table>\n",
       "</div>"
      ],
      "text/plain": [
       "                        DATABASE_CODE  Index Value  High  Low  \\\n",
       "Date      DATASET_CODE                                          \n",
       "10/1/2020 NQCA10CADT                1            1     1    1   \n",
       "          NQCA10LMCADT              1            1     1    1   \n",
       "          NQCA15CADT                1            1     1    1   \n",
       "          NQCA20CADT                1            1     1    1   \n",
       "          NQCA30CADT                1            1     1    1   \n",
       "\n",
       "                        Total Market Value  Dividend Market Value  \n",
       "Date      DATASET_CODE                                             \n",
       "10/1/2020 NQCA10CADT                     1                      1  \n",
       "          NQCA10LMCADT                   1                      1  \n",
       "          NQCA15CADT                     1                      1  \n",
       "          NQCA20CADT                     1                      1  \n",
       "          NQCA30CADT                     1                      1  "
      ]
     },
     "execution_count": 17,
     "metadata": {},
     "output_type": "execute_result"
    }
   ],
   "source": [
    "# Check again\n",
    "index_value.groupby(['Date','DATASET_CODE']).count().head(5)"
   ]
  },
  {
   "cell_type": "code",
   "execution_count": 18,
   "metadata": {
    "editable": true
   },
   "outputs": [
    {
     "data": {
      "text/plain": [
       "True     47813\n",
       "False       67\n",
       "dtype: int64"
      ]
     },
     "execution_count": 18,
     "metadata": {},
     "output_type": "execute_result"
    }
   ],
   "source": [
    "# Check if Index Value = High = Low\n",
    "((index_value['Index Value'] == index_value['High']) & (index_value['Index Value'] == index_value['Low']) & (index_value['High'] == index_value['Low'])).value_counts()"
   ]
  },
  {
   "cell_type": "markdown",
   "metadata": {
    "editable": true
   },
   "source": [
    "As we can see from above comparison, only small portion of 3 columns are not equal. Index Value movement will not be signficant within one day and as long-term passive investor, we will not consider daily movement. As a result, only 'Index Value' column will be kept."
   ]
  },
  {
   "cell_type": "code",
   "execution_count": 19,
   "metadata": {
    "editable": true
   },
   "outputs": [
    {
     "data": {
      "text/plain": [
       "Index(['Date', 'DATABASE_CODE', 'DATASET_CODE', 'Index Value',\n",
       "       'Total Market Value', 'Dividend Market Value'],\n",
       "      dtype='object')"
      ]
     },
     "execution_count": 19,
     "metadata": {},
     "output_type": "execute_result"
    }
   ],
   "source": [
    "# Drop unnecessary columns and check\n",
    "index_value = index_value.drop(columns=['High','Low'])\n",
    "index_value.columns"
   ]
  },
  {
   "cell_type": "markdown",
   "metadata": {
    "editable": true
   },
   "source": [
    "#### Checking Missing value for index_value data"
   ]
  },
  {
   "cell_type": "code",
   "execution_count": 20,
   "metadata": {
    "editable": true
   },
   "outputs": [
    {
     "data": {
      "text/plain": [
       "Date                     False\n",
       "DATABASE_CODE            False\n",
       "DATASET_CODE             False\n",
       "Index Value              False\n",
       "Total Market Value       False\n",
       "Dividend Market Value    False\n",
       "dtype: bool"
      ]
     },
     "execution_count": 20,
     "metadata": {},
     "output_type": "execute_result"
    }
   ],
   "source": [
    "index_value.isna().any()"
   ]
  },
  {
   "cell_type": "markdown",
   "metadata": {
    "editable": true
   },
   "source": [
    "No Missing Value for extracted index value"
   ]
  },
  {
   "cell_type": "code",
   "execution_count": 34,
   "metadata": {
    "editable": true
   },
   "outputs": [],
   "source": [
    "# Read in the data here\n",
    "eco_indicator_mapping = pd.read_csv('datasets/economic indicator schema.csv')\n",
    "eco_indicator_value = pd.read_csv('datasets/economic_indicator_value.csv')"
   ]
  },
  {
   "cell_type": "markdown",
   "metadata": {
    "editable": true
   },
   "source": [
    "#### Checking Duplicate for Economic Indicator List"
   ]
  },
  {
   "cell_type": "code",
   "execution_count": 35,
   "metadata": {
    "editable": true
   },
   "outputs": [
    {
     "data": {
      "text/html": [
       "<div>\n",
       "<style scoped>\n",
       "    .dataframe tbody tr th:only-of-type {\n",
       "        vertical-align: middle;\n",
       "    }\n",
       "\n",
       "    .dataframe tbody tr th {\n",
       "        vertical-align: top;\n",
       "    }\n",
       "\n",
       "    .dataframe thead th {\n",
       "        text-align: right;\n",
       "    }\n",
       "</style>\n",
       "<table border=\"1\" class=\"dataframe\">\n",
       "  <thead>\n",
       "    <tr style=\"text-align: right;\">\n",
       "      <th></th>\n",
       "      <th>CODE</th>\n",
       "      <th>INDICATOR</th>\n",
       "      <th>TYPE</th>\n",
       "    </tr>\n",
       "  </thead>\n",
       "  <tbody>\n",
       "    <tr>\n",
       "      <th>0</th>\n",
       "      <td>GDP</td>\n",
       "      <td>Gross Domestic Product</td>\n",
       "      <td>Growth</td>\n",
       "    </tr>\n",
       "    <tr>\n",
       "      <th>1</th>\n",
       "      <td>GDPC1</td>\n",
       "      <td>Real Gross Domestic Product</td>\n",
       "      <td>Growth</td>\n",
       "    </tr>\n",
       "    <tr>\n",
       "      <th>2</th>\n",
       "      <td>GDPPOT</td>\n",
       "      <td>Real Potential Gross Domestic Product</td>\n",
       "      <td>Growth</td>\n",
       "    </tr>\n",
       "    <tr>\n",
       "      <th>3</th>\n",
       "      <td>CPIAUCSL</td>\n",
       "      <td>Consumer Price Index for All Urban Consumers: ...</td>\n",
       "      <td>Prices and Inflation</td>\n",
       "    </tr>\n",
       "    <tr>\n",
       "      <th>4</th>\n",
       "      <td>CPILFESL</td>\n",
       "      <td>Consumer Price Index for All Urban Consumers: ...</td>\n",
       "      <td>Prices and Inflation</td>\n",
       "    </tr>\n",
       "  </tbody>\n",
       "</table>\n",
       "</div>"
      ],
      "text/plain": [
       "       CODE                                          INDICATOR  \\\n",
       "0       GDP                             Gross Domestic Product   \n",
       "1     GDPC1                        Real Gross Domestic Product   \n",
       "2    GDPPOT              Real Potential Gross Domestic Product   \n",
       "3  CPIAUCSL  Consumer Price Index for All Urban Consumers: ...   \n",
       "4  CPILFESL  Consumer Price Index for All Urban Consumers: ...   \n",
       "\n",
       "                   TYPE  \n",
       "0                Growth  \n",
       "1                Growth  \n",
       "2                Growth  \n",
       "3  Prices and Inflation  \n",
       "4  Prices and Inflation  "
      ]
     },
     "execution_count": 35,
     "metadata": {},
     "output_type": "execute_result"
    }
   ],
   "source": [
    "eco_indicator_mapping.head(5)"
   ]
  },
  {
   "cell_type": "code",
   "execution_count": 36,
   "metadata": {
    "editable": true
   },
   "outputs": [
    {
     "data": {
      "text/plain": [
       "NROU      1\n",
       "GDPPOT    1\n",
       "T5YIE     1\n",
       "HOUST     1\n",
       "DGS30     1\n",
       "Name: CODE, dtype: int64"
      ]
     },
     "execution_count": 36,
     "metadata": {},
     "output_type": "execute_result"
    }
   ],
   "source": [
    "# Identify Duplicate value for economic indicator list if any\n",
    "eco_indicator_mapping['CODE'].value_counts().head(5)"
   ]
  },
  {
   "cell_type": "code",
   "execution_count": 37,
   "metadata": {
    "editable": true
   },
   "outputs": [
    {
     "data": {
      "text/plain": [
       "All Employees: Total nonfarm                         1\n",
       "Effective Federal Funds Rate                         1\n",
       "Industrial Production Index                          1\n",
       "Real Median Household Income in the United States    1\n",
       "M2 Money Stock                                       1\n",
       "Name: INDICATOR, dtype: int64"
      ]
     },
     "execution_count": 37,
     "metadata": {},
     "output_type": "execute_result"
    }
   ],
   "source": [
    "eco_indicator_mapping['INDICATOR'].value_counts().head(5)"
   ]
  },
  {
   "cell_type": "code",
   "execution_count": 38,
   "metadata": {
    "editable": true
   },
   "outputs": [
    {
     "data": {
      "text/plain": [
       "Employment                12\n",
       "Other                     10\n",
       "Interest Rates             8\n",
       "Income and Expenditure     7\n",
       "Money Supply               5\n",
       "Name: TYPE, dtype: int64"
      ]
     },
     "execution_count": 38,
     "metadata": {},
     "output_type": "execute_result"
    }
   ],
   "source": [
    "eco_indicator_mapping['TYPE'].value_counts().head(5)"
   ]
  },
  {
   "cell_type": "markdown",
   "metadata": {
    "editable": true
   },
   "source": [
    "No duplicate for 'CODE' and 'INDICATOR'. Duplicate for 'TYPE' is expected."
   ]
  },
  {
   "cell_type": "markdown",
   "metadata": {
    "editable": true
   },
   "source": [
    "#### Checking Missing for Economic Indicator List"
   ]
  },
  {
   "cell_type": "code",
   "execution_count": 39,
   "metadata": {
    "editable": true
   },
   "outputs": [
    {
     "data": {
      "text/plain": [
       "CODE         False\n",
       "INDICATOR    False\n",
       "TYPE         False\n",
       "dtype: bool"
      ]
     },
     "execution_count": 39,
     "metadata": {},
     "output_type": "execute_result"
    }
   ],
   "source": [
    "eco_indicator_mapping.isna().any()"
   ]
  },
  {
   "cell_type": "markdown",
   "metadata": {
    "editable": true
   },
   "source": [
    "#### Checking Duplicate for Economic Indicator Value"
   ]
  },
  {
   "cell_type": "code",
   "execution_count": 40,
   "metadata": {
    "editable": true
   },
   "outputs": [
    {
     "data": {
      "text/html": [
       "<div>\n",
       "<style scoped>\n",
       "    .dataframe tbody tr th:only-of-type {\n",
       "        vertical-align: middle;\n",
       "    }\n",
       "\n",
       "    .dataframe tbody tr th {\n",
       "        vertical-align: top;\n",
       "    }\n",
       "\n",
       "    .dataframe thead th {\n",
       "        text-align: right;\n",
       "    }\n",
       "</style>\n",
       "<table border=\"1\" class=\"dataframe\">\n",
       "  <thead>\n",
       "    <tr style=\"text-align: right;\">\n",
       "      <th></th>\n",
       "      <th>Date</th>\n",
       "      <th>DATABASE_CODE</th>\n",
       "      <th>DATASET_CODE</th>\n",
       "      <th>Value</th>\n",
       "    </tr>\n",
       "  </thead>\n",
       "  <tbody>\n",
       "    <tr>\n",
       "      <th>0</th>\n",
       "      <td>1/1/1947</td>\n",
       "      <td>FRED</td>\n",
       "      <td>GDP</td>\n",
       "      <td>243.164</td>\n",
       "    </tr>\n",
       "    <tr>\n",
       "      <th>1</th>\n",
       "      <td>4/1/1947</td>\n",
       "      <td>FRED</td>\n",
       "      <td>GDP</td>\n",
       "      <td>245.968</td>\n",
       "    </tr>\n",
       "    <tr>\n",
       "      <th>2</th>\n",
       "      <td>7/1/1947</td>\n",
       "      <td>FRED</td>\n",
       "      <td>GDP</td>\n",
       "      <td>249.585</td>\n",
       "    </tr>\n",
       "    <tr>\n",
       "      <th>3</th>\n",
       "      <td>10/1/1947</td>\n",
       "      <td>FRED</td>\n",
       "      <td>GDP</td>\n",
       "      <td>259.745</td>\n",
       "    </tr>\n",
       "    <tr>\n",
       "      <th>4</th>\n",
       "      <td>1/1/1948</td>\n",
       "      <td>FRED</td>\n",
       "      <td>GDP</td>\n",
       "      <td>265.742</td>\n",
       "    </tr>\n",
       "  </tbody>\n",
       "</table>\n",
       "</div>"
      ],
      "text/plain": [
       "        Date DATABASE_CODE DATASET_CODE    Value\n",
       "0   1/1/1947          FRED          GDP  243.164\n",
       "1   4/1/1947          FRED          GDP  245.968\n",
       "2   7/1/1947          FRED          GDP  249.585\n",
       "3  10/1/1947          FRED          GDP  259.745\n",
       "4   1/1/1948          FRED          GDP  265.742"
      ]
     },
     "execution_count": 40,
     "metadata": {},
     "output_type": "execute_result"
    }
   ],
   "source": [
    "eco_indicator_value.head(5)"
   ]
  },
  {
   "cell_type": "code",
   "execution_count": 41,
   "metadata": {
    "editable": true
   },
   "outputs": [
    {
     "data": {
      "text/html": [
       "<div>\n",
       "<style scoped>\n",
       "    .dataframe tbody tr th:only-of-type {\n",
       "        vertical-align: middle;\n",
       "    }\n",
       "\n",
       "    .dataframe tbody tr th {\n",
       "        vertical-align: top;\n",
       "    }\n",
       "\n",
       "    .dataframe thead th {\n",
       "        text-align: right;\n",
       "    }\n",
       "</style>\n",
       "<table border=\"1\" class=\"dataframe\">\n",
       "  <thead>\n",
       "    <tr style=\"text-align: right;\">\n",
       "      <th></th>\n",
       "      <th></th>\n",
       "      <th>DATABASE_CODE</th>\n",
       "      <th>Value</th>\n",
       "    </tr>\n",
       "    <tr>\n",
       "      <th>Date</th>\n",
       "      <th>DATASET_CODE</th>\n",
       "      <th></th>\n",
       "      <th></th>\n",
       "    </tr>\n",
       "  </thead>\n",
       "  <tbody>\n",
       "    <tr>\n",
       "      <th>1/1/1919</th>\n",
       "      <th>INDPRO</th>\n",
       "      <td>1</td>\n",
       "      <td>1</td>\n",
       "    </tr>\n",
       "    <tr>\n",
       "      <th>1/1/1920</th>\n",
       "      <th>INDPRO</th>\n",
       "      <td>1</td>\n",
       "      <td>1</td>\n",
       "    </tr>\n",
       "    <tr>\n",
       "      <th>1/1/1921</th>\n",
       "      <th>INDPRO</th>\n",
       "      <td>1</td>\n",
       "      <td>1</td>\n",
       "    </tr>\n",
       "    <tr>\n",
       "      <th>1/1/1922</th>\n",
       "      <th>INDPRO</th>\n",
       "      <td>1</td>\n",
       "      <td>1</td>\n",
       "    </tr>\n",
       "    <tr>\n",
       "      <th>1/1/1923</th>\n",
       "      <th>INDPRO</th>\n",
       "      <td>1</td>\n",
       "      <td>1</td>\n",
       "    </tr>\n",
       "  </tbody>\n",
       "</table>\n",
       "</div>"
      ],
      "text/plain": [
       "                       DATABASE_CODE  Value\n",
       "Date     DATASET_CODE                      \n",
       "1/1/1919 INDPRO                    1      1\n",
       "1/1/1920 INDPRO                    1      1\n",
       "1/1/1921 INDPRO                    1      1\n",
       "1/1/1922 INDPRO                    1      1\n",
       "1/1/1923 INDPRO                    1      1"
      ]
     },
     "execution_count": 41,
     "metadata": {},
     "output_type": "execute_result"
    }
   ],
   "source": [
    "eco_indicator_value.groupby(['Date','DATASET_CODE']).count().head(5)"
   ]
  },
  {
   "cell_type": "code",
   "execution_count": 42,
   "metadata": {
    "editable": true
   },
   "outputs": [],
   "source": [
    "# Remove duplicate if any\n",
    "eco_indicator_value = eco_indicator_value.drop_duplicates(subset=['Date','DATASET_CODE'])"
   ]
  },
  {
   "cell_type": "markdown",
   "metadata": {
    "editable": true
   },
   "source": [
    "#### Checking Missing for Economic Indicator Value"
   ]
  },
  {
   "cell_type": "code",
   "execution_count": 43,
   "metadata": {
    "editable": true
   },
   "outputs": [
    {
     "data": {
      "text/plain": [
       "Date             False\n",
       "DATABASE_CODE    False\n",
       "DATASET_CODE     False\n",
       "Value            False\n",
       "dtype: bool"
      ]
     },
     "execution_count": 43,
     "metadata": {},
     "output_type": "execute_result"
    }
   ],
   "source": [
    "eco_indicator_value.isna().any()"
   ]
  },
  {
   "cell_type": "markdown",
   "metadata": {
    "editable": true
   },
   "source": [
    "#### Data Exploration and cleaning completed. Cleaned data will be saved to /output/"
   ]
  },
  {
   "cell_type": "code",
   "execution_count": 44,
   "metadata": {
    "editable": true
   },
   "outputs": [],
   "source": [
    "index_list.to_csv('output/index_list_updated.csv', index=False)\n",
    "index_value.to_csv('output/index_value_updated.csv', index=False)\n",
    "eco_indicator_mapping.to_csv('output/eco_indicator_mapping.csv', index=False)\n",
    "eco_indicator_value.to_csv('output/eco_indicator_value.csv', index=False)"
   ]
  },
  {
   "cell_type": "markdown",
   "metadata": {
    "editable": true
   },
   "source": [
    "### 3. Data Model"
   ]
  },
  {
   "cell_type": "markdown",
   "metadata": {
    "editable": true
   },
   "source": [
    "#### 3.1 Data Model Design"
   ]
  },
  {
   "cell_type": "markdown",
   "metadata": {
    "editable": true
   },
   "source": [
    "#### Standard SQL Database vs NoSQL\n",
    "\n",
    "Standard SQL Database is picked over NoSQL database with the following reason:\n",
    "1. Due to scope of this analysis, only index and economoic indicators will be analyzed. Varieties of data are limited. \n",
    "2. Type of query can be varied. If NoSQL database like Cassandra is used, lots of type of query need to be created for analyzing investments and thus not very effective\n",
    "3. Standard SQL database are more cost-effective for personal projects of small scale\n",
    "\n",
    "Factors that affects variation of queries:\n",
    "1. Time-Series - Different Time Period can be selected \n",
    "2. Geographical Location - US/Canada\n",
    "3. For each sector, different economoic indicators combination may be used for analysis.\n",
    "4. Correlation analysis between sector analysis/ Economoic Indicators"
   ]
  },
  {
   "cell_type": "markdown",
   "metadata": {
    "editable": true
   },
   "source": [
    "##### Star-Schema\n",
    "Both economoic indicator and index are selected based on eco_indicator_list and index_list. However, when extracting out data, important information is missing from the 'value' table. Thus, a STAR schema is needed. Information in the list and value table need to combine as a fact table for easier accessible of all required information for research."
   ]
  },
  {
   "cell_type": "markdown",
   "metadata": {
    "editable": true
   },
   "source": [
    "#### 3.2 Final Conceptual Data Model"
   ]
  },
  {
   "cell_type": "markdown",
   "metadata": {
    "editable": true
   },
   "source": [
    "<img src=\"images/ERD.jpg\">."
   ]
  },
  {
   "cell_type": "markdown",
   "metadata": {
    "editable": true
   },
   "source": [
    "#### Schema Design\n",
    "The graph above shown the star schema including both dimension and fact table component of data modeling. When conducting research, index_fact and economic fact will be used.\n",
    "\n",
    "##### Dimension Tables:\n",
    "\n",
    "###### index_value:\n",
    "1. date: Date in mm/dd/yyyy format (DATE) - Primary Key\n",
    "2. dataset_code: Database code (VARCHAR) - Primary Key & Foreign Key(Reference index_list(symbol))\n",
    "3. database_code: Dataset code (VARCHAR)\n",
    "4. index_value: Close value of given date (NUMERIC)\n",
    "5. total_market_value: Market value of index (NUMERIC)\n",
    "6. dividend_market_value: Total Dividend received (NUMERIC)\n",
    "\n",
    "###### index_list:\n",
    "1. index_name: Name of the index (VARCHAR)\n",
    "2. symbol: Current symbol (VARCHAR) - Primary Key\n",
    "3. old_symbol: (VARCHAR) Previously used symbol\n",
    "\n",
    "###### eco_indicator_list:\n",
    "1. code: Dataset code (VARCHAR) - Primary Key\n",
    "2. indicator_name: The name of Indicator (VARCHAR)\n",
    "3. type: Type of indicator (VARCHAR)\n",
    "\n",
    "###### eco_indicator_value:\n",
    "1. date: Date in mm/dd/yyyy format (DATE) - Primary Key\n",
    "2. database_code: Database code (VARCHAR) - Primary Key & Foreign Key(Reference eco_indicator_list(code))\n",
    "3. dataset_code: Dataset code (VARCHAR)\n",
    "4. indicator_value: Value of the indicator (NUMERIC)\n",
    "\n",
    "##### Fact Tables:\n",
    "\n",
    "When conducting sector analysis, the actual name of index is needed. It's not clear with only dataset_code. At this moment, only 1 type of index provider is used, we can ignore database_code. However, as index from other provider may be added in the future, database_code is kept to distinguish index data provider.\n",
    "\n",
    "###### index_fact:\n",
    "1. index_name \n",
    "2. date\n",
    "3. dataset_code\n",
    "4. index_value\n",
    "5. total_market_value\n",
    "6. dividend_market_value\n",
    "\n",
    "When we conduct economical analysis, we need the sector information for economic indicators. 'indicator_name' and 'type' are added to the fact table.\n",
    "\n",
    "###### eco_fact:\n",
    "1. indicator_name\n",
    "2. date\n",
    "3. code\n",
    "4. value\n",
    "5. type\n"
   ]
  },
  {
   "cell_type": "markdown",
   "metadata": {
    "editable": true
   },
   "source": [
    "#### 3.3 Data Pipelines\n",
    "1. Extract data from API \n",
    "2. Transform data to required foramt for schema\n",
    "3. Create connection to data table \n",
    "4. Load initial data into the dimension tables\n",
    "5. Load initial data into the fact tables with data from dimension table"
   ]
  },
  {
   "cell_type": "markdown",
   "metadata": {
    "editable": true
   },
   "source": [
    "### 4: Running Data Pipeline\n",
    "#### 4.1 Create the data model"
   ]
  },
  {
   "cell_type": "markdown",
   "metadata": {
    "editable": true
   },
   "source": [
    "Please refer to creat_tables.py for data model creation processes"
   ]
  },
  {
   "cell_type": "markdown",
   "metadata": {
    "editable": true
   },
   "source": [
    "An example of data insertion is provided below. For detailed process, please refer to etl.py."
   ]
  },
  {
   "cell_type": "markdown",
   "metadata": {
    "editable": true
   },
   "source": [
    "#### Example of insert index list"
   ]
  },
  {
   "cell_type": "code",
   "execution_count": 2,
   "metadata": {
    "editable": true
   },
   "outputs": [
    {
     "data": {
      "text/html": [
       "<div>\n",
       "<style scoped>\n",
       "    .dataframe tbody tr th:only-of-type {\n",
       "        vertical-align: middle;\n",
       "    }\n",
       "\n",
       "    .dataframe tbody tr th {\n",
       "        vertical-align: top;\n",
       "    }\n",
       "\n",
       "    .dataframe thead th {\n",
       "        text-align: right;\n",
       "    }\n",
       "</style>\n",
       "<table border=\"1\" class=\"dataframe\">\n",
       "  <thead>\n",
       "    <tr style=\"text-align: right;\">\n",
       "      <th></th>\n",
       "      <th>symbol</th>\n",
       "      <th>index_name</th>\n",
       "      <th>old_symbol</th>\n",
       "    </tr>\n",
       "  </thead>\n",
       "  <tbody>\n",
       "    <tr>\n",
       "      <th>0</th>\n",
       "      <td>NQASIA55AUD</td>\n",
       "      <td>Nasdaq Asia Basic Materials AUD Index</td>\n",
       "      <td>NQASIA1000AUD</td>\n",
       "    </tr>\n",
       "    <tr>\n",
       "      <th>1</th>\n",
       "      <td>NQASIA55AUDN</td>\n",
       "      <td>Nasdaq Asia Basic Materials AUD NTR Index</td>\n",
       "      <td>NQASIA1000AUDN</td>\n",
       "    </tr>\n",
       "    <tr>\n",
       "      <th>2</th>\n",
       "      <td>NQASIA55AUDT</td>\n",
       "      <td>Nasdaq Asia Basic Materials AUD TR Index</td>\n",
       "      <td>NQASIA1000AUDT</td>\n",
       "    </tr>\n",
       "    <tr>\n",
       "      <th>3</th>\n",
       "      <td>NQASIA55CAD</td>\n",
       "      <td>Nasdaq Asia Basic Materials CAD Index</td>\n",
       "      <td>NQASIA1000CAD</td>\n",
       "    </tr>\n",
       "    <tr>\n",
       "      <th>4</th>\n",
       "      <td>NQASIA55CADN</td>\n",
       "      <td>Nasdaq Asia Basic Materials CAD NTR Index</td>\n",
       "      <td>NQASIA1000CADN</td>\n",
       "    </tr>\n",
       "  </tbody>\n",
       "</table>\n",
       "</div>"
      ],
      "text/plain": [
       "         symbol                                 index_name      old_symbol\n",
       "0   NQASIA55AUD      Nasdaq Asia Basic Materials AUD Index   NQASIA1000AUD\n",
       "1  NQASIA55AUDN  Nasdaq Asia Basic Materials AUD NTR Index  NQASIA1000AUDN\n",
       "2  NQASIA55AUDT   Nasdaq Asia Basic Materials AUD TR Index  NQASIA1000AUDT\n",
       "3   NQASIA55CAD      Nasdaq Asia Basic Materials CAD Index   NQASIA1000CAD\n",
       "4  NQASIA55CADN  Nasdaq Asia Basic Materials CAD NTR Index  NQASIA1000CADN"
      ]
     },
     "execution_count": 2,
     "metadata": {},
     "output_type": "execute_result"
    }
   ],
   "source": [
    "index_list = pd.read_csv('datasets/indexes_list.csv')\n",
    "df_to_insert = pd.DataFrame(index_list, columns=['#NAME', 'SYMBOL', 'OLD SYMBOL'])\n",
    "df_to_insert = df_to_insert[['SYMBOL','#NAME','OLD SYMBOL']]\n",
    "df_to_insert = df_to_insert.rename(columns = {'SYMBOL':'symbol', '#NAME':'index_name', 'OLD SYMBOL':'old_symbol'})\n",
    "df_to_insert.head(5)"
   ]
  },
  {
   "cell_type": "code",
   "execution_count": null,
   "metadata": {
    "editable": true
   },
   "outputs": [],
   "source": [
    "config = configparser.ConfigParser()\n",
    "config.read('credential.cfg')\n",
    "\n",
    "conn = psycopg2.connect(\"host={} dbname={} user={} password={} port={}\".format(*config['CLUSTER'].values()))\n",
    "cur = conn.cursor()\n",
    "\n",
    "# Insert into tables\n",
    "for row in df_to_insert.itertuples(index = False):\n",
    "    cur.execute(index_list_insert, row)\n",
    "conn.commit()"
   ]
  },
  {
   "cell_type": "markdown",
   "metadata": {
    "editable": true
   },
   "source": [
    "#### 4.2 Data Quality Checks\n",
    "Explain the data quality checks you'll perform to ensure the pipeline ran as expected. These could include:\n",
    " * Integrity constraints on the relational database (e.g., unique key, data type, etc.)\n",
    " * Unit tests for the scripts to ensure they are doing the right thing\n",
    " * Source/Count checks to ensure completeness\n"
   ]
  },
  {
   "cell_type": "markdown",
   "metadata": {
    "editable": true
   },
   "source": [
    "The data checks are mainly completed through 2 components \n",
    "1. Initial duplication and data check(Please refer to part 1)\n",
    "2. integrity constraints on the relational database during the insert base:\n",
    "\n",
    "a. Unique key exists to identify unique value \n",
    "b. Date type is used for all date related columns \n",
    "c. NUMERIC data type are used for all value column and rest are all VARCHAR"
   ]
  },
  {
   "cell_type": "markdown",
   "metadata": {
    "editable": true
   },
   "source": [
    "#### 4.3 Data dictionary \n",
    "Please refer to data_dictionary.md for Data Dictionary."
   ]
  },
  {
   "cell_type": "markdown",
   "metadata": {
    "editable": true
   },
   "source": [
    "### 5. Project Write Up"
   ]
  },
  {
   "cell_type": "markdown",
   "metadata": {
    "editable": true
   },
   "source": [
    "#### 5.1 Tools/Technology Selection"
   ]
  },
  {
   "cell_type": "markdown",
   "metadata": {
    "editable": true
   },
   "source": [
    "1. Data Exploration: \n",
    "Python Pandas Dataframe is used for initial exploration of raw data as it is easy to use for this size of data with good I/O compared to Spark.\n",
    "\n",
    "2. Data Pipeline:\n",
    "ETL are mainly completed with Python. The raw data are relatively clean after data exploration. Python pandas is more than enough to complete the task. Python also have easy access to connect to AWS Redshift. \n",
    "\n",
    "3. Data Storage:\n",
    "AWS Redshift is the data storage tool selected for the project. It offers flexibility with resize/concurrency scaling feature that allows the database to expand capability. With SORTKEY & DISTKEY setup, the reading speed will be increased when large amount of data is stored in the schema."
   ]
  },
  {
   "cell_type": "markdown",
   "metadata": {
    "editable": true
   },
   "source": [
    "#### 5.2 Data Update Frequency"
   ]
  },
  {
   "cell_type": "markdown",
   "metadata": {
    "editable": true
   },
   "source": [
    "It depends on analytics need. To get the most updated everyday, it can set to update everything daily as index value are updated every working day. However, economic indicator value are usually updated at least weekly. Another update strategy will be update everything on weekly when we need the data to do analysis. As a long-term investor, we tend not to do a lot of update on our investment strategy/decision a lot. I believe weekly update is more than enough to serve its purpose effectively."
   ]
  },
  {
   "cell_type": "markdown",
   "metadata": {
    "editable": true
   },
   "source": [
    "#### 5.3 Plan for future"
   ]
  },
  {
   "cell_type": "markdown",
   "metadata": {
    "editable": true
   },
   "source": [
    "##### 5.3.1 Data Amount increase by 100x"
   ]
  },
  {
   "cell_type": "markdown",
   "metadata": {
    "editable": true
   },
   "source": [
    "If stock market in more area are needed to analyze, the data amount will be increased. Current database utilization is less than 1 GB. If the data amount increase by 100x as data accumulate over time and area to analyze expand, current Redshift configuration is still able to hold. If the data amount increases further, the size of REDSHIFT cluster can be resized to cater increasing data size demand."
   ]
  },
  {
   "cell_type": "markdown",
   "metadata": {
    "editable": true
   },
   "source": [
    "##### 5.3.2 Data Populates a dashboard that must be updated on a daily basis by 7am everyday"
   ]
  },
  {
   "cell_type": "markdown",
   "metadata": {
    "editable": true
   },
   "source": [
    "Airflow will be a good choice to schedule everything to run daily basis by 7am as it offers:\n",
    "1. One platform to have overview of data pipeline processes(DAG)\n",
    "2. Task dependency easily managed by DAG\n",
    "3. Easy to use scheduling capabilities including good retry set up\n",
    "4. Alerting system inform data engineers with emails\n",
    "\n",
    "The data pipeline for updating the dashboard will likely to include following steps \n",
    "1. Check most recent date for each index and economic indicator used(Python)\n",
    "2. Download data starting after the most recent date(Python)\n",
    "3. Load downloaded data into cluster (Airflow with Python)\n",
    "4. Refresh dashboard with the new data"
   ]
  },
  {
   "cell_type": "markdown",
   "metadata": {
    "editable": true
   },
   "source": [
    "##### 5.3.3 The database needed to be accessed by 100+ people."
   ]
  },
  {
   "cell_type": "markdown",
   "metadata": {
    "editable": true
   },
   "source": [
    "AWS Redshift has the concurrency scaling feature that allows Redshift to automatically add additional cluster when more cluster capacity is needed as more users are querying the database. It will be able to 100+ users at ease with flexibility to save cost incurred."
   ]
  },
  {
   "cell_type": "code",
   "execution_count": null,
   "metadata": {
    "editable": true
   },
   "outputs": [],
   "source": []
  }
 ],
 "metadata": {
  "kernelspec": {
   "display_name": "Python 3",
   "language": "python",
   "name": "python3"
  },
  "language_info": {
   "codemirror_mode": {
    "name": "ipython",
    "version": 3
   },
   "file_extension": ".py",
   "mimetype": "text/x-python",
   "name": "python",
   "nbconvert_exporter": "python",
   "pygments_lexer": "ipython3",
   "version": "3.6.3"
  }
 },
 "nbformat": 4,
 "nbformat_minor": 4
}
